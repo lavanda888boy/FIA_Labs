{
 "cells": [
  {
   "cell_type": "markdown",
   "id": "7d252a8d",
   "metadata": {
    "id": "7d252a8d"
   },
   "source": [
    "***FCIM.FIA - Fundamentals of Artificial Intelligence***\n",
    "\n",
    "> **Lab 1:** *Expert Systems* \\\\\n",
    "> **Performed by:** *Bajenov Sevastian*, group *FAF-213* \\\\\n",
    "> **Verified by:** Elena Graur, asist. univ."
   ]
  },
  {
   "cell_type": "markdown",
   "id": "BPiGwyyGNsHh",
   "metadata": {
    "id": "BPiGwyyGNsHh"
   },
   "source": [
    "## Imports and Utils"
   ]
  },
  {
   "cell_type": "markdown",
   "id": "123ccd62",
   "metadata": {},
   "source": [
    "Create a virtual environment, install all the necessary dependencies so that you can run the notebook using your virtual environment as a kernel."
   ]
  },
  {
   "cell_type": "code",
   "execution_count": null,
   "id": "d2b3945f",
   "metadata": {},
   "outputs": [],
   "source": [
    "# pip install -r requirements.txt"
   ]
  },
  {
   "cell_type": "markdown",
   "id": "7146ed9b",
   "metadata": {
    "id": "7146ed9b"
   },
   "source": [
    "## Task 1\n",
    "\n",
    "In order to develop the expert system, I started from defining the knowledge base. The system includes 5 main hypotheses, or tourist types and one additional (Luna City citizen). The main ones can be divided into 2 groups: `poor` and `rich` tourists. The first category includes `Sugar Daddy`, `Influencer` and `Drug Dealer`. The second one consists of the `Crypto Investor` and `Student`. The Luna Citizen, or `Lunatic` is an additional hypothesis, having the most simple proof path.\n",
    "\n",
    "Below is presented the goal tree describing all the facts and the associated hypotheses:\n",
    "\n",
    "![GoalTree](./goal_tree.png)"
   ]
  },
  {
   "cell_type": "markdown",
   "id": "0938e3e4",
   "metadata": {
    "id": "0938e3e4"
   },
   "source": [
    "## Task 2\n",
    "\n",
    "The `LUNA_GUESTS_RULES` defines the connection between the intermediary facts and hypotheses and the initial facts. Each rule includes only two conditions and there is only one rule which is of type `OR`. The rest of the rules are of the `AND` type. It is important to mention one convention regarding the structure of each rule. All of the intermediary facts are placed as the first condition in each of the rules. It helps further with the `interactive traversal` of the goal tree."
   ]
  },
  {
   "cell_type": "code",
   "execution_count": 21,
   "id": "6b0859a4",
   "metadata": {
    "id": "6b0859a4"
   },
   "outputs": [],
   "source": [
    "from production import IF, AND, THEN, OR\n",
    "\n",
    "LUNA_GUESTS_RULES = (\n",
    "\n",
    "    IF( OR( '(?x) floats in the air',\n",
    "            '(?x) has shapeless body' ),\n",
    "        THEN( '(?x) is a Lunatic' )),\n",
    "    \n",
    "    IF( AND( '(?x) wears jewellery',\n",
    "             '(?x) has expensive accesories' ),\n",
    "        THEN( '(?x) is a rich person supposedly' )),\n",
    "\n",
    "    IF( AND( '(?x) wears baggy clothes',\n",
    "             '(?x) has small luggage' ),\n",
    "        THEN( '(?x) is a poor person' )),\n",
    "    \n",
    "    IF( AND( '(?x) is a rich person supposedly', \n",
    "            '(?x) has personal interspace vehicle'),\n",
    "        THEN( '(?x) is a rich person' )),\n",
    "   \n",
    "    IF( AND( '(?x) is a rich person',\n",
    "             '(?x) is accompanied by a very young lady' ),\n",
    "        THEN( '(?x) is a Sugar Daddy' )),\n",
    "   \n",
    "    IF( AND( '(?x) is a rich person',\n",
    "             '(?x) is live on social media' ),\n",
    "        THEN( '(?x) is an Influencer' )),\n",
    "    \n",
    "    IF( AND( '(?x) is a rich person',\n",
    "             '(?x) smokes expensive cigars' ),\n",
    "        THEN( '(?x) is a Drug Dealer' )),\n",
    "    \n",
    "    IF( AND( '(?x) is a poor person',\n",
    "             '(?x) has an addicted behavior' ),\n",
    "        THEN( '(?x) is a Crypto Investor' )),\n",
    "    \n",
    "    IF( AND( '(?x) is a poor person', \n",
    "             '(?x) is in the group of similar looking people' ),\n",
    "        THEN( '(?x) is a Student' )),\n",
    "    )"
   ]
  },
  {
   "cell_type": "markdown",
   "id": "3f67a3d5",
   "metadata": {
    "id": "3f67a3d5"
   },
   "source": [
    "## Task 3\n",
    "\n",
    "The first algorithm which is needed for implementing the expert system is the `forward chaining` algorithm. It is also known as a forward deduction or forward reasoning method when using an inference engine. Forward chaining is a form of reasoning which start with initial facts in the knowledge base and applies inference rules in the forward direction to extract more data until a goal is reached.\n",
    "\n",
    "The algorithm provided in the conditions of the laboratory work is rather straightforward. It iterates over the list of rules and tries to apply them to each of the facts in the provided list until the algorithm reaches an intermediary fact or hypothesis. Below is presented verbose output of the `forward_chain` method and it can be observed that the algorithm aggregates facts consequently until the hypothesis is reached. There is also printed the difference between the initial data and the data obtained after performing forward chaining over the goal tree."
   ]
  },
  {
   "cell_type": "code",
   "execution_count": 28,
   "id": "046623ad",
   "metadata": {
    "id": "046623ad"
   },
   "outputs": [
    {
     "name": "stdout",
     "output_type": "stream",
     "text": [
      "Rule: IF(AND('(?x) wears baggy clothes', '(?x) has small luggage'), THEN('(?x) is a poor person'))\n",
      "Added: Tim is a poor person\n",
      "Rule: IF(AND('(?x) is a poor person', '(?x) has an addicted behavior'), THEN('(?x) is a Crypto Investor'))\n",
      "Added: Tim is a Crypto Investor\n",
      "\n",
      "{'Tim is a poor person', 'Tim is a Crypto Investor'}\n"
     ]
    }
   ],
   "source": [
    "from rules import LUNA_GUESTS_RULES\n",
    "\n",
    "def forward_chain(rules, data, apply_only_one=False, verbose=False):\n",
    "    old_data = ()\n",
    "\n",
    "    while set(old_data) != set(data):\n",
    "        old_data = list(data)\n",
    "        for condition in rules:\n",
    "            data = condition.apply(data, apply_only_one, verbose)\n",
    "            if set(data) != set(old_data):\n",
    "                break\n",
    "\n",
    "    return set(data)\n",
    "\n",
    "facts = ['Tim wears baggy clothes', 'Tim has small luggage', 'Tim has an addicted behavior']\n",
    "resulting_facts = forward_chain(LUNA_GUESTS_RULES, facts, verbose=True)\n",
    "print(f\"\\n{resulting_facts - set(facts)}\")"
   ]
  },
  {
   "cell_type": "markdown",
   "id": "5e81413d",
   "metadata": {},
   "source": [
    "## Task 4\n",
    "\n",
    "The second essential algorithm for the expert system development is the `backward chaining` algorithm. It is a form of reasoning, which starts with the goal and works backward, chaining through rules to find known facts that support the goal. \n",
    "\n",
    "In my implementation, the algorithm retrieves the `antecedent` (conditions) and `consequent` (conclusion) of each rule. If the `consequent` matches the `hypothesis`, the program tries to prove the `antecedent`. If the antecedent involves an `AND`, we try to prove recursively all the subgoals. If it involves an `OR`, then we prove at least one subgoal. Otherwise, the antecedent is treated as a single condition. Finally, the `backward_chain` method is being called recursively to prove each subgoal of the antecedent.\n",
    "\n",
    "Moreover, the print statements are arranged in such way that each of the subgoals, as well as the hypothesis itself, are printed on new lines without indent, and their antecedents are presented below with an indent (also the type of the condition is printed)."
   ]
  },
  {
   "cell_type": "code",
   "execution_count": 23,
   "id": "182f8476",
   "metadata": {},
   "outputs": [
    {
     "name": "stdout",
     "output_type": "stream",
     "text": [
      "? Tim is a Student\n",
      "  - Tim is a poor person and Tim is in the group of similar looking people\n",
      "? Tim is a poor person\n",
      "  - Tim wears baggy clothes and Tim has small luggage\n",
      "\n",
      "[AND([AND(['(?x) wears baggy clothes'], ['(?x) has small luggage'])], ['(?x) is in the group of similar looking people'])]\n"
     ]
    }
   ],
   "source": [
    "import re\n",
    "\n",
    "from rules import LUNA_GUESTS_RULES\n",
    "from production import match, AND, OR\n",
    "\n",
    "def backward_chain(rules, hypothesis, examined_person, verbose=False, depth=0):\n",
    "    if hypothesis in rules:\n",
    "        if verbose:\n",
    "            print(f\"Found {hypothesis} in facts.\")\n",
    "        return [hypothesis]\n",
    "\n",
    "    goal_tree = []\n",
    "    for rule in rules:\n",
    "        antecedent = rule.antecedent()\n",
    "        consequent = rule.consequent()\n",
    "\n",
    "        # If the rule's consequent matches the hypothesis, try to prove the antecedent.\n",
    "        if match(consequent[0], hypothesis):\n",
    "            if verbose:\n",
    "                hypothesis = re.sub(r'\\(\\?x\\)', examined_person, hypothesis)\n",
    "                condits = [re.sub(r'\\(\\?x\\)', examined_person, condition) for condition in antecedent.conditions()]\n",
    "\n",
    "                print(f\"{' ' * depth}? {hypothesis}\")\n",
    "                depth += 2\n",
    "\n",
    "                if 'AND' in str(type(antecedent)):\n",
    "                    print(f\"{' ' * depth}- {condits[0]} and {condits[1]}\")\n",
    "                else:\n",
    "                    print(f\"{' ' * depth}- {condits[0]} or\\n{' ' * depth}- {condits[1]}\")\n",
    "                \n",
    "                depth += 2\n",
    "\n",
    "            # Check if the antecedent can be proven recursively\n",
    "            if isinstance(antecedent, AND):\n",
    "                subgoals = [backward_chain(rules, subgoal, examined_person, verbose) for subgoal in antecedent]\n",
    "                goal_tree.append(AND(*subgoals))\n",
    "            elif isinstance(antecedent, OR):\n",
    "                subgoals = [backward_chain(rules, subgoal, examined_person, verbose) for subgoal in antecedent]\n",
    "                goal_tree.append(OR(*subgoals))\n",
    "            else:\n",
    "                # Single condition antecedent\n",
    "                subgoal = backward_chain(rules, antecedent, verbose)\n",
    "                goal_tree.append(subgoal)\n",
    "\n",
    "    return goal_tree or [hypothesis]\n",
    "\n",
    "hypothesis = 'Tim is a Student'\n",
    "goal_tree = backward_chain(LUNA_GUESTS_RULES, hypothesis, hypothesis.split()[0], verbose=True)\n",
    "print(f\"\\n{goal_tree}\")"
   ]
  },
  {
   "cell_type": "markdown",
   "id": "ef336e6c",
   "metadata": {},
   "source": [
    "## Task 5\n",
    "\n",
    "An important step in developing an interactive expert system consists in creating the algorithm for generating user questions. I decided to ask the user 3 types of questions: `yes/no`, `multiple choice` and `user input` which is basically the prompt which requires the user to enter a fact about the person being analyzed. Therefore, I created a class `QuestionGenerator` with 3 methods implementing the question generation based on the rule conditions:\n",
    "\n",
    "1. **generate_yes_no_question(self, condition)**\n",
    "\n",
    "    According to the english grammar rules converts the sentence into a general question which requires yes or no answer. The `convert_verb_to_infinitive` method helps to change the verb's tense in the original sentence.\n",
    "\n",
    "2. **generate_multiple_choice_question(self, conditions)**\n",
    "\n",
    "    Iterates over the list of conditions and adds them as options into a numerated list. The last option in the resulting list is `None of the listed options`. The user is then prompted to choose one of the options.\n",
    "\n",
    "3. **generate_user_input_question(self)**\n",
    "    \n",
    "    Provides a prompt which simply asks the user to give an insight about the person, he/she tries to identify."
   ]
  },
  {
   "cell_type": "code",
   "execution_count": 24,
   "id": "d417c411",
   "metadata": {},
   "outputs": [
    {
     "name": "stdout",
     "output_type": "stream",
     "text": [
      "Is the person accompanied by a very young lady?\n",
      "------------------------------------------------\n",
      "The person you are trying to identify...\n",
      "\n",
      "1. ...is accompanied by a very young lady\n",
      "2. ...live on social media\n",
      "3. None of the given options\n",
      "------------------------------------------------\n",
      "Provide an additional insight about the person.\n",
      "For example, 'is live on social media'.\n"
     ]
    }
   ],
   "source": [
    "class QuestionGenerator:\n",
    "\n",
    "    question_placeholder = 'the person'\n",
    "\n",
    "    def convert_verb_to_infinitive(self, verb):\n",
    "        if verb == 'has':\n",
    "            return 'have'\n",
    "        else:\n",
    "            return verb[:-1]\n",
    "\n",
    "\n",
    "    def generate_yes_no_question(self, condition):\n",
    "        words = condition.split()\n",
    "        verb = words[1]\n",
    "\n",
    "        if verb.startswith('is'):\n",
    "            question = f\"Is {self.question_placeholder} {' '.join(words[2:])}?\"\n",
    "        else:\n",
    "            question = f\"Does {self.question_placeholder} {self.convert_verb_to_infinitive(verb)} \" + \\\n",
    "                f\"{' '.join(words[2:])}?\"\n",
    "        \n",
    "        return question\n",
    "    \n",
    "\n",
    "    def generate_multiple_choice_question(self, conditions):\n",
    "        question = \"The person you are trying to identify...\\n\\n\"\n",
    "        \n",
    "        index = 1\n",
    "        for condition in conditions:\n",
    "            question += f\"{index}. ...{' '.join(condition.split()[1:])}\\n\"\n",
    "            index += 1\n",
    "\n",
    "        question += f\"{index}. None of the given options\"\n",
    "\n",
    "        return question\n",
    "\n",
    "\n",
    "    def generate_user_input_question(self):\n",
    "        question = f\"Provide an additional insight about {self.question_placeholder}.\\n\"\n",
    "        question += \"For example, 'is live on social media'.\"\n",
    "\n",
    "        return question\n",
    "    \n",
    "\n",
    "question_generator = QuestionGenerator()\n",
    "print(question_generator.generate_yes_no_question('(?x) is accompanied by a very young lady'))\n",
    "print('------------------------------------------------')\n",
    "print(question_generator.generate_multiple_choice_question(['(?x) is accompanied by a very young lady', 'is live on social media']))\n",
    "print('------------------------------------------------')\n",
    "print(question_generator.generate_user_input_question())"
   ]
  },
  {
   "cell_type": "markdown",
   "id": "2c4a62fd",
   "metadata": {},
   "source": [
    "## Task 6-7\n",
    "\n",
    "Before analyzing the interactive expert system implementation, it is necessary to go through the helper methods of the `ExpertSystem` class:\n",
    "\n",
    "1. **System setup methods**\n",
    "\n",
    "    The two methods from this category identify hypotheses and leaf/intermediary rules at the start of the interactive goal tree traversal. `Leaf rules` are those rules, having conditions which are not contained by any rule's action. The rest of the rules are `intermediary` ones."
   ]
  },
  {
   "cell_type": "code",
   "execution_count": null,
   "id": "48929adc",
   "metadata": {},
   "outputs": [],
   "source": [
    "# do not run this cell\n",
    "\n",
    "def identify_hypotheses(self, actions):\n",
    "    for action in actions:\n",
    "        invalid_action = False\n",
    "\n",
    "        for rule in LUNA_GUESTS_RULES:\n",
    "            if action in rule._conditional.conditions():\n",
    "                invalid_action = True\n",
    "                break\n",
    "        \n",
    "        if not invalid_action:\n",
    "            self.hypotheses.append(action)\n",
    "\n",
    "\n",
    "def identify_leaf_and_intermediary_rules(self, actions):\n",
    "    for rule in LUNA_GUESTS_RULES:\n",
    "        invalid_condition = False\n",
    "\n",
    "        for condition in rule._conditional.conditions():\n",
    "            if condition in actions:\n",
    "                invalid_condition = True\n",
    "                self.intermediary_rules.append({'rule': rule, 'checked': False, 'leaf': False})\n",
    "                break\n",
    "        \n",
    "        if not invalid_condition:\n",
    "            self.leaf_rules.append({'rule': rule, 'checked': False, 'leaf': True})"
   ]
  },
  {
   "cell_type": "markdown",
   "id": "69ac3da3",
   "metadata": {},
   "source": [
    "2. **Question asking methods**\n",
    "\n",
    "    These methods call the corresponding methods from the `QuestionGenerator` class and collect the user response which is either an integer or a string."
   ]
  },
  {
   "cell_type": "code",
   "execution_count": null,
   "id": "567387a0",
   "metadata": {},
   "outputs": [],
   "source": [
    "# do not run this cell\n",
    "\n",
    "def ask_single_choice_question(self, condition):\n",
    "    question = self.question_generator.generate_yes_no_question(condition)\n",
    "    print(f\"\\n{question}\")\n",
    "    user_response = input(\"\\nYes/No? \")\n",
    "\n",
    "    while (not user_response.startswith(\"Yes\")) and (not user_response.startswith(\"No\")):\n",
    "        user_response = input(\"\\nYes/No? \")\n",
    "    \n",
    "    return user_response\n",
    "\n",
    "\n",
    "def ask_multiple_choice_question(self, conditions):\n",
    "    question = self.question_generator.generate_multiple_choice_question(conditions)\n",
    "    print(f\"\\n{question}\")\n",
    "    user_response = int(input(\"\\nChoose an option: \"))\n",
    "\n",
    "    while not user_response in [option for option in range(1, len(conditions) + 2)]:\n",
    "        user_response = int(input(\"\\nChoose an option: \"))\n",
    "    \n",
    "    return user_response\n",
    "\n",
    "\n",
    "def ask_user_input_question(self):\n",
    "    question = self.question_generator.generate_user_input_question()\n",
    "    print(f\"\\n{question}\")\n",
    "    user_response = input(\"\\nYour insight: the person \")\n",
    "\n",
    "    return user_response"
   ]
  },
  {
   "cell_type": "markdown",
   "id": "839030c4",
   "metadata": {},
   "source": [
    "3. **Rule status tracking methods**\n",
    "\n",
    "    First of all, this set of methods helps us track the rules which were already verified by the expert system. Secondly, depending on the situation the methods extract either a single rule or several rules at once in case if the system formulates multiple choice question and needs several rules for a single fact to process."
   ]
  },
  {
   "cell_type": "code",
   "execution_count": null,
   "id": "dda07618",
   "metadata": {},
   "outputs": [],
   "source": [
    "# do not run this cell\n",
    "\n",
    "def get_a_new_unchecked_rule(self, rules, existing_fact=None):\n",
    "    for rule in rules:\n",
    "        if not rule['checked']:\n",
    "            if (existing_fact is None) or (existing_fact in rule['rule']._conditional.conditions()):\n",
    "                return rule\n",
    "    return None\n",
    "\n",
    "\n",
    "def get_list_of_unchecked_rules(self, rules, existing_fact):\n",
    "    aggregated_rules = []\n",
    "\n",
    "    for rule in rules:\n",
    "        if not rule['checked']:\n",
    "            if existing_fact in rule['rule']._conditional.conditions():\n",
    "                aggregated_rules.append(rule)\n",
    "\n",
    "    return aggregated_rules\n",
    "\n",
    "\n",
    "def mark_rule_as_checked(self, checked_rule):\n",
    "    rules = []\n",
    "    if checked_rule['leaf']:\n",
    "        rules = self.leaf_rules  \n",
    "    else:\n",
    "        rules = self.intermediary_rules\n",
    "\n",
    "    for rule in rules:\n",
    "        if rule['rule'].__str__().startswith(checked_rule['rule'].__str__()):\n",
    "            rule['checked'] = True\n",
    "            return"
   ]
  },
  {
   "cell_type": "markdown",
   "id": "1e78234b",
   "metadata": {},
   "source": [
    "Further on, it is important to explain how the rules are being verified (note: both methods explained here return the list of newly obtained facts). In case of the `multiple choice question` the program asks the user either the corresponding question or the user input question. The probability for the latter to occur is lower. The fact entered by the user may be then added to the `facts` list which already contains the `existing fact` to which the conditions being verified are linked. \n",
    "\n",
    "The situation with the single condition verification is a little bit more complex. First of all, the program distinguishes `OR` and `AND` rule types to avoid unnecessary condition check. Also, if the rule which is being checked is an intermediary one then its intermediary condition (fact) is not being checked. The resulting logic is encapsulated into a chain of if/else statements. Necessary note: the program assumes that each rule contains only 2 conditions."
   ]
  },
  {
   "cell_type": "code",
   "execution_count": null,
   "id": "64583e6f",
   "metadata": {},
   "outputs": [],
   "source": [
    "# do not run this cell\n",
    "\n",
    "def verify_single_condition_fulfillment(self, rule, existing_fact):\n",
    "    facts = set()\n",
    "    conditions = rule['rule']._conditional.conditions()\n",
    "\n",
    "    if existing_fact is not None:\n",
    "        facts.add(existing_fact)\n",
    "\n",
    "        if 'OR' in str(type(rule['rule']._conditional)):\n",
    "            return facts\n",
    "        \n",
    "        response = self.ask_single_choice_question(conditions[1])\n",
    "        if response.startswith(\"Yes\"):\n",
    "            facts.add(conditions[1])\n",
    "    else:\n",
    "        first_response = self.ask_single_choice_question(conditions[0])\n",
    "        if first_response.startswith(\"Yes\"):\n",
    "            facts.add(conditions[0])\n",
    "            \n",
    "            if 'OR' in str(type(rule['rule']._conditional)):\n",
    "                return facts\n",
    "        else:\n",
    "            if 'AND' in str(type(rule['rule']._conditional)):\n",
    "                return facts\n",
    "            \n",
    "        second_response = self.ask_single_choice_question(conditions[1])\n",
    "        if second_response.startswith(\"Yes\"):\n",
    "            facts.add(conditions[1])\n",
    "    \n",
    "    return facts\n",
    "\n",
    "\n",
    "def verify_multiple_conditions_fulfillment(self, rules, existing_fact):\n",
    "    facts = set()\n",
    "    facts.add(existing_fact)\n",
    "\n",
    "    conditions = []\n",
    "    for rule in rules:\n",
    "        conditions.append(rule['rule']._conditional.conditions()[1])\n",
    "\n",
    "    question_choice = randint(1, 3)\n",
    "\n",
    "    if question_choice != 1:\n",
    "        response = self.ask_multiple_choice_question(conditions)\n",
    "\n",
    "        if response != len(conditions) + 1:\n",
    "            facts.add(conditions[response - 1])\n",
    "    else:\n",
    "        response = self.ask_user_input_question()\n",
    "\n",
    "        for condition in conditions:\n",
    "            if condition.endswith(response):\n",
    "                facts.add(condition)\n",
    "                break\n",
    "\n",
    "    return facts"
   ]
  },
  {
   "cell_type": "markdown",
   "id": "a99aac51",
   "metadata": {},
   "source": [
    "Finally, it is time to explain the general flow of the interactive goal tree traversal. The algorithm works roughly like follows:\n",
    "\n",
    "1. Identify hypotheses and leaf/intermediary rules;\n",
    "2. While no return or break instructions occur proceed:\n",
    "    \n",
    "    2.1 Get a new unchecked rule from the list of leaf rules;\n",
    "\n",
    "    2.2 If `current_rule` is None than the system failed to identify the person (exit);\n",
    "    \n",
    "    2.3 While `current_rule` is not None or there are no return or break instructions proceed:\n",
    "        \n",
    "    2.3.1 Verify single condition fulfillment or set the `facts` equal to the facts obtained from the multiple choice question;\n",
    "\n",
    "    2.3.2 Obtain `new_facts` using `forward_chain` method and mark rule as checked;\n",
    "\n",
    "    2.3.3 Try to obtain an intermediary fact by finding the difference `new_facts - facts`;\n",
    "\n",
    "    2.3.4 If the difference is an empty set: if the rule is a leaf one then exit the while loop, else get a new unchecked rule using current intermediary fact; else check if the resulting fact is in `hypotheses`, then exit completely, else verify multiple conditions of the current intermediary fact;"
   ]
  },
  {
   "cell_type": "code",
   "execution_count": null,
   "id": "82c4c8cd",
   "metadata": {},
   "outputs": [],
   "source": [
    "# do not run this cell\n",
    "\n",
    "def traverse_goal_tree_interactively(self):\n",
    "    if len(self.actions) == 0:\n",
    "        self.actions = [rule._action[0] for rule in LUNA_GUESTS_RULES]\n",
    "\n",
    "    if len(self.hypotheses) == 0:\n",
    "        self.identify_hypotheses(self.actions)\n",
    "\n",
    "    self.identify_leaf_and_intermediary_rules(self.actions)\n",
    "\n",
    "    while True: \n",
    "        existing_fact = None\n",
    "        current_rule = self.get_a_new_unchecked_rule(self.leaf_rules)\n",
    "\n",
    "        if current_rule is None:\n",
    "            print(\"\\nThe person cannot be identified by the system\")\n",
    "            return\n",
    "        \n",
    "        choice_facts = None\n",
    "\n",
    "        while current_rule is not None:\n",
    "            if choice_facts is not None:\n",
    "                facts = choice_facts\n",
    "            else:\n",
    "                facts = self.verify_single_condition_fulfillment(current_rule, existing_fact)\n",
    "            \n",
    "            new_facts = forward_chain(LUNA_GUESTS_RULES, facts)\n",
    "            self.mark_rule_as_checked(current_rule)\n",
    "\n",
    "            try:\n",
    "                intermediary_fact = (new_facts - facts).pop()\n",
    "\n",
    "                if intermediary_fact in self.hypotheses:\n",
    "                    print(f\"\\nThe person {' '.join(intermediary_fact.split()[1:])}\")\n",
    "                    return\n",
    "                else:\n",
    "                    existing_fact = intermediary_fact\n",
    "                    curr_rules = self.get_list_of_unchecked_rules(self.intermediary_rules, existing_fact)\n",
    "\n",
    "                    if len(curr_rules) > 1:\n",
    "                        choice_facts = self.verify_multiple_conditions_fulfillment(curr_rules, existing_fact)\n",
    "                        for rule in curr_rules:\n",
    "                            self.mark_rule_as_checked(rule)\n",
    "                    else:\n",
    "                        current_rule = curr_rules[0]\n",
    "\n",
    "            except (KeyError):\n",
    "                if current_rule['leaf']:\n",
    "                    break\n",
    "                else:\n",
    "                    current_rule = self.get_a_new_unchecked_rule(self.intermediary_rules, list(facts)[0])"
   ]
  },
  {
   "cell_type": "markdown",
   "id": "4ed7f33d",
   "metadata": {},
   "source": [
    "Last remark: the method for printing encyclopedia view of a hypothesis using backward chaining simply prompts the user to enter a hypothesis and then calls `backward_chain` method with verbose output."
   ]
  },
  {
   "cell_type": "code",
   "execution_count": null,
   "id": "38c9854e",
   "metadata": {},
   "outputs": [],
   "source": [
    "# do not run this cell\n",
    "\n",
    "def get_person_category_encyclopedia_view(self):\n",
    "    if len(self.actions) == 0:\n",
    "        self.actions = [rule._action[0] for rule in LUNA_GUESTS_RULES]\n",
    "\n",
    "    if len(self.hypotheses) == 0:\n",
    "        self.identify_hypotheses(self.actions)\n",
    "\n",
    "    hypothesis = input(\"\\nEnter your hypothesis (for example, 'Tim is a Student'): \")\n",
    "    words = hypothesis.split()\n",
    "    words[0] = '(?x)'\n",
    "    hypothesis_action = ' '.join(words)\n",
    "\n",
    "    while hypothesis_action not in self.hypotheses:\n",
    "        print(\"\\nThe system does not recognize the hypothesis\")\n",
    "        hypothesis = input(\"\\nTry again (for example, 'Tim is a Student'): \")\n",
    "        words = hypothesis.split()\n",
    "        words[0] = '(?x)'\n",
    "        hypothesis_action = ' '.join(words)\n",
    "\n",
    "    print()\n",
    "    backward_chain(LUNA_GUESTS_RULES, hypothesis, hypothesis.split()[0], verbose=True)"
   ]
  },
  {
   "cell_type": "markdown",
   "id": "22e4b958",
   "metadata": {},
   "source": [
    "Below is presented an example of using the system in two modes (based on forward and backward chaining respectively):"
   ]
  },
  {
   "cell_type": "code",
   "execution_count": 26,
   "id": "70291997",
   "metadata": {},
   "outputs": [
    {
     "name": "stdout",
     "output_type": "stream",
     "text": [
      "Welcome to Luna City Tourist Expert System!\n",
      "\n",
      "Does the person float in the air?\n",
      "\n",
      "Does the person have shapeless body?\n",
      "\n",
      "Does the person wear jewellery?\n",
      "\n",
      "Does the person have expensive accesories?\n",
      "\n",
      "Does the person have personal interspace vehicle?\n",
      "\n",
      "The person you are trying to identify...\n",
      "\n",
      "1. ...is accompanied by a very young lady\n",
      "2. ...is live on social media\n",
      "3. ...smokes expensive cigars\n",
      "4. None of the given options\n",
      "\n",
      "The person is an Influencer\n",
      "\n",
      "? Tim is a Crypto Investor\n",
      "  - Tim is a poor person and Tim has an addicted behavior\n",
      "? Tim is a poor person\n",
      "  - Tim wears baggy clothes and Tim has small luggage\n",
      "\n",
      "Thank you for using our expert system\n"
     ]
    }
   ],
   "source": [
    "from expert_system import ExpertSystem\n",
    "\n",
    "if __name__=='__main__':\n",
    "    print(\"Welcome to Luna City Tourist Expert System!\")\n",
    "\n",
    "    while True:\n",
    "        request = int(input(\"\\nChoose expert system mode:\\n1 - person identification\\n2 - encyclopedia view\\n3 - exit\\n\\n\"))\n",
    "\n",
    "        while request not in [1, 2, 3]:\n",
    "            request = int(input(\"\\nChoose expert system mode:\\n1 - person identification\\n2 - encyclopedia view\\n\\n\"))\n",
    "        \n",
    "        es = ExpertSystem()\n",
    "        if request == 1:\n",
    "            es.traverse_goal_tree_interactively()\n",
    "        elif request == 2:\n",
    "            es.get_person_category_encyclopedia_view()\n",
    "        else:\n",
    "            print(\"\\nThank you for using our expert system\")\n",
    "            break"
   ]
  },
  {
   "cell_type": "markdown",
   "id": "0e29d59a",
   "metadata": {
    "id": "0e29d59a"
   },
   "source": [
    "## Conclusions:"
   ]
  },
  {
   "cell_type": "markdown",
   "id": "7m6C-NhzzLy8",
   "metadata": {
    "id": "7m6C-NhzzLy8"
   },
   "source": [
    "In this laboratory work I learned the concept of expert systems in artificial intelligence. I studied thouroughly forward and backward chaining algorithms and applied them to develop an interactive expert system. During the process of its development I used iterative approach, but it is also possible to use recursive approach. In my opinion, recursion could be a better option which could help avoid redundant checks. Moreover, in my implementation I did not use backward chaining to ask questions interactively, however, it could be another option of optimization."
   ]
  },
  {
   "cell_type": "markdown",
   "id": "10e08029",
   "metadata": {},
   "source": [
    "## Acknowledgements\n",
    "\n",
    "In this laboratory work I was assisted by Arteom Kalamaghin from FAF-211. He helped me solve ambiguity which occured when I designed the goal tree and also explained to me how multiple choice questions should be correctly formulated."
   ]
  },
  {
   "cell_type": "markdown",
   "id": "zwGzGeqmzU-l",
   "metadata": {
    "id": "zwGzGeqmzU-l"
   },
   "source": [
    "## Bibliography:"
   ]
  },
  {
   "cell_type": "markdown",
   "id": "5DrArOXRzWet",
   "metadata": {
    "id": "5DrArOXRzWet"
   },
   "source": [
    "1. https://www.javatpoint.com/forward-chaining-and-backward-chaining-in-ai\n",
    "2. https://towardsdatascience.com/are-expert-systems-dead-87c8d6c26474"
   ]
  }
 ],
 "metadata": {
  "colab": {
   "provenance": []
  },
  "kernelspec": {
   "display_name": ".venv",
   "language": "python",
   "name": "python3"
  },
  "language_info": {
   "codemirror_mode": {
    "name": "ipython",
    "version": 3
   },
   "file_extension": ".py",
   "mimetype": "text/x-python",
   "name": "python",
   "nbconvert_exporter": "python",
   "pygments_lexer": "ipython3",
   "version": "3.12.4"
  },
  "toc": {
   "base_numbering": 1,
   "nav_menu": {},
   "number_sections": true,
   "sideBar": true,
   "skip_h1_title": false,
   "title_cell": "Table of Contents",
   "title_sidebar": "Contents",
   "toc_cell": false,
   "toc_position": {},
   "toc_section_display": true,
   "toc_window_display": false
  }
 },
 "nbformat": 4,
 "nbformat_minor": 5
}
