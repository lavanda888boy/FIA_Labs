{
 "cells": [
  {
   "cell_type": "markdown",
   "id": "7d252a8d",
   "metadata": {
    "id": "7d252a8d"
   },
   "source": [
    "***FCIM.FIA - Fundamentals of Artificial Intelligence***\n",
    "\n",
    "> **Lab 1:** *Expert Systems* \\\\\n",
    "> **Performed by:** *Bajenov Sevastian*, group *FAF-213* \\\\\n",
    "> **Verified by:** Elena Graur, asist. univ."
   ]
  },
  {
   "cell_type": "markdown",
   "id": "BPiGwyyGNsHh",
   "metadata": {
    "id": "BPiGwyyGNsHh"
   },
   "source": [
    "## Imports and Utils"
   ]
  },
  {
   "cell_type": "code",
   "execution_count": 1,
   "id": "533fd9fa",
   "metadata": {
    "ExecuteTime": {
     "end_time": "2022-01-23T09:47:05.838671Z",
     "start_time": "2022-01-23T09:47:05.834860Z"
    },
    "id": "533fd9fa"
   },
   "outputs": [],
   "source": [
    "# !pip install -r requirements.txt\n",
    "from rules import LUNA_GUESTS_RULES\n",
    "from production import forward_chain, backward_chain"
   ]
  },
  {
   "cell_type": "markdown",
   "id": "7146ed9b",
   "metadata": {
    "id": "7146ed9b"
   },
   "source": [
    "## Task 1\n",
    "*You description of the task implementation, workflow, conclusions, etc. here*"
   ]
  },
  {
   "cell_type": "code",
   "execution_count": 2,
   "id": "6531cedd",
   "metadata": {
    "ExecuteTime": {
     "end_time": "2022-01-23T09:47:15.094380Z",
     "start_time": "2022-01-23T09:47:15.090135Z"
    },
    "id": "6531cedd"
   },
   "outputs": [],
   "source": [
    "# Your work here"
   ]
  },
  {
   "cell_type": "markdown",
   "id": "0938e3e4",
   "metadata": {
    "id": "0938e3e4"
   },
   "source": [
    "## Task 2\n",
    "*You description of the task implementation, workflow, conclusions, etc. here*"
   ]
  },
  {
   "cell_type": "code",
   "execution_count": 3,
   "id": "6b0859a4",
   "metadata": {
    "id": "6b0859a4"
   },
   "outputs": [
    {
     "name": "stdout",
     "output_type": "stream",
     "text": [
      "Rule: IF(AND('(?x) wears jewellery', '(?x) has expensive accesories'), THEN('(?x) is a rich person supposedly'))\n",
      "Added: tim is a rich person supposedly\n",
      "Rule: IF(OR('(?x) has personal interspace vehicle', '(?x) is a rich person supposedly'), THEN('(?x) is a rich person'))\n",
      "Added: tim is a rich person\n",
      "('tim has expensive accesories', 'tim is a rich person', 'tim is a rich person supposedly', 'tim wears jewellery')\n"
     ]
    }
   ],
   "source": [
    "print(forward_chain(LUNA_GUESTS_RULES, ['tim wears jewellery', 'tim has expensive accesories'], verbose=True))"
   ]
  },
  {
   "cell_type": "markdown",
   "id": "3f67a3d5",
   "metadata": {
    "id": "3f67a3d5"
   },
   "source": [
    "## Task 3\n",
    "*You description of the task implementation, workflow, conclusions, etc. here*"
   ]
  },
  {
   "cell_type": "code",
   "execution_count": 4,
   "id": "046623ad",
   "metadata": {
    "id": "046623ad"
   },
   "outputs": [
    {
     "name": "stdout",
     "output_type": "stream",
     "text": [
      "- tim is a Sugar Daddy\n",
      "  - tim is a rich person and tim is accompanied by a very young lady\n",
      "    - tim is a rich person\n",
      "      - tim has personal interspace vehicle\n",
      "      - tim is a rich person supposedly\n",
      "        - tim is a rich person supposedly\n",
      "          - tim wears jewellery and tim has expensive accesories\n"
     ]
    }
   ],
   "source": [
    "hypo = 'tim is a Sugar Daddy'\n",
    "goal_tree = backward_chain(LUNA_GUESTS_RULES, hypo, hypo.split()[0], verbose=True)"
   ]
  },
  {
   "cell_type": "markdown",
   "id": "0e29d59a",
   "metadata": {
    "id": "0e29d59a"
   },
   "source": [
    "## Conclusions:"
   ]
  },
  {
   "cell_type": "markdown",
   "id": "7m6C-NhzzLy8",
   "metadata": {
    "id": "7m6C-NhzzLy8"
   },
   "source": [
    "*Your conclusions go here. Something you have learnt, observed, and so on. Please avoid writing redundant stuff (a.k.a. \"apușoară\").*"
   ]
  },
  {
   "cell_type": "markdown",
   "id": "zwGzGeqmzU-l",
   "metadata": {
    "id": "zwGzGeqmzU-l"
   },
   "source": [
    "## Bibliography:"
   ]
  },
  {
   "cell_type": "markdown",
   "id": "5DrArOXRzWet",
   "metadata": {
    "id": "5DrArOXRzWet"
   },
   "source": [
    "*The sources you've used go here.*"
   ]
  },
  {
   "cell_type": "code",
   "execution_count": null,
   "id": "dCxiiqejq-7e",
   "metadata": {
    "id": "dCxiiqejq-7e"
   },
   "outputs": [],
   "source": []
  }
 ],
 "metadata": {
  "colab": {
   "provenance": []
  },
  "kernelspec": {
   "display_name": "Python 3 (ipykernel)",
   "language": "python",
   "name": "python3"
  },
  "language_info": {
   "codemirror_mode": {
    "name": "ipython",
    "version": 3
   },
   "file_extension": ".py",
   "mimetype": "text/x-python",
   "name": "python",
   "nbconvert_exporter": "python",
   "pygments_lexer": "ipython3",
   "version": "3.12.4"
  },
  "toc": {
   "base_numbering": 1,
   "nav_menu": {},
   "number_sections": true,
   "sideBar": true,
   "skip_h1_title": false,
   "title_cell": "Table of Contents",
   "title_sidebar": "Contents",
   "toc_cell": false,
   "toc_position": {},
   "toc_section_display": true,
   "toc_window_display": false
  }
 },
 "nbformat": 4,
 "nbformat_minor": 5
}
